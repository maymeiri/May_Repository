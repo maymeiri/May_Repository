{
 "cells": [
  {
   "cell_type": "code",
   "execution_count": 1,
   "metadata": {},
   "outputs": [],
   "source": [
    "#Import the libraries\n",
    "import tabula\n",
    "from unidecode import unidecode"
   ]
  },
  {
   "cell_type": "code",
   "execution_count": 2,
   "metadata": {},
   "outputs": [],
   "source": [
    "#Specifying the table\n",
    "file = '/Users/may/Downloads/Blank 5-2.pdf'\n",
    "file_2 = '/Users/may/Downloads/Screenshot 2024-06-14 at 10.54.23.pdf'"
   ]
  },
  {
   "cell_type": "code",
   "execution_count": 6,
   "metadata": {},
   "outputs": [
    {
     "name": "stderr",
     "output_type": "stream",
     "text": [
      "'pages' argument isn't specified.Will extract only from page 1 by default.\n",
      "'pages' argument isn't specified.Will extract only from page 1 by default.\n"
     ]
    },
    {
     "name": "stdout",
     "output_type": "stream",
     "text": [
      "[]\n",
      "<class 'list'>\n"
     ]
    }
   ],
   "source": [
    "# Reading the PDF and extracting the table\n",
    "df = tabula.read_pdf(file,pandas_options={'index': None,'header':0})\n",
    "df = df[0]\n",
    "df = df[['Unnamed: 0','surenames','names','date of birth']]\n",
    "df2 = tabula.read_pdf(file_2,pandas_options={'index': None,'header':0})\n",
    "\n",
    "print(df2)\n",
    "print(type(df2))"
   ]
  },
  {
   "cell_type": "code",
   "execution_count": 69,
   "metadata": {},
   "outputs": [
    {
     "name": "stdout",
     "output_type": "stream",
     "text": [
      "    time surenames names date of birth\n",
      "0  12:30     meiri  Maya    16/04/1994\n",
      "1  13:00     meiri   May    09/01/2000\n"
     ]
    }
   ],
   "source": [
    "#Removing special characters from names and surenames columns with lambda function\n",
    "df['names'] = df['names'].apply(lambda x: unidecode(x))\n",
    "df['surenames'] = df['surenames'].apply(lambda x: unidecode(x))\n",
    "df.rename(columns={'Unnamed: 0': 'time'}, inplace=True)\n",
    "\n",
    "print(df)"
   ]
  },
  {
   "cell_type": "code",
   "execution_count": 70,
   "metadata": {},
   "outputs": [],
   "source": [
    "#Exporting the dataframe to a csv file\n",
    "df.to_csv('/Users/may/Downloads/new_file.csv')"
   ]
  }
 ],
 "metadata": {
  "kernelspec": {
   "display_name": "base",
   "language": "python",
   "name": "python3"
  },
  "language_info": {
   "codemirror_mode": {
    "name": "ipython",
    "version": 3
   },
   "file_extension": ".py",
   "mimetype": "text/x-python",
   "name": "python",
   "nbconvert_exporter": "python",
   "pygments_lexer": "ipython3",
   "version": "3.11.7"
  }
 },
 "nbformat": 4,
 "nbformat_minor": 2
}
