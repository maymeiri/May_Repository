{
 "cells": [
  {
   "cell_type": "markdown",
   "id": "3045f086-e424-49ee-acf8-339d9c106e1f",
   "metadata": {},
   "source": [
    "# Data Science Tools and Ecosystem"
   ]
  },
  {
   "cell_type": "markdown",
   "id": "d54f045e-9c17-44d6-a41c-683e1f6d5577",
   "metadata": {},
   "source": [
    "### In this notebook, Data Science Tools and Ecosystem are summarized."
   ]
  },
  {
   "cell_type": "markdown",
   "id": "805a6658-2f6a-4dbf-a333-86f6f391fe4f",
   "metadata": {},
   "source": [
    "### Objectives:\n",
    "* List popular data science languages\n",
    "* List commonly used libraries by data Scientists\n",
    "* List some open source tools for data Scientists\n",
    "* Show examples of arithmetic expressions in Python"
   ]
  },
  {
   "cell_type": "markdown",
   "id": "c66e9afd-d454-4213-8c7a-3e0460718e36",
   "metadata": {},
   "source": [
    "#### Some of the popular languages that Data Scientists use are:\n",
    "1. SQL\n",
    "2. Python\n",
    "3. R"
   ]
  },
  {
   "cell_type": "markdown",
   "id": "a6ffe22d-adde-4fa1-a2c8-ecb99410a0b4",
   "metadata": {},
   "source": [
    "### Some of the commonly used libraries used by Data Scientists include:\n",
    "1. Matplotlib\n",
    "2. Numpy\n",
    "3. Scikit-learn\n",
    "4. Ggplot2\n",
    "5. Plotly"
   ]
  },
  {
   "cell_type": "markdown",
   "id": "3d453a63-d945-43a6-a354-5aa5613c1695",
   "metadata": {},
   "source": [
    "|Data Science Tools|\n",
    " ------------------\n",
    "|Visual Studio|\n",
    "|Rstudio|\n",
    "|Jupyter|"
   ]
  },
  {
   "cell_type": "markdown",
   "id": "f78a84be-8557-47ad-b07b-671d3d82ed65",
   "metadata": {},
   "source": [
    "### Below are a few examples of evaluating arithmetic expressions in Python"
   ]
  },
  {
   "cell_type": "code",
   "execution_count": 12,
   "id": "5ae78a3d-6466-4937-9ff0-90bcfa5674d7",
   "metadata": {},
   "outputs": [
    {
     "data": {
      "text/plain": [
       "17"
      ]
     },
     "execution_count": 12,
     "metadata": {},
     "output_type": "execute_result"
    }
   ],
   "source": [
    "#This a simple arithmetic expression to mutiply \n",
    "(3*4)+5"
   ]
  },
  {
   "cell_type": "code",
   "execution_count": 14,
   "id": "7a2dd8a0-e4e6-49f7-8fe2-714634704cd5",
   "metadata": {},
   "outputs": [
    {
     "data": {
      "text/plain": [
       "3.3333333333333335"
      ]
     },
     "execution_count": 14,
     "metadata": {},
     "output_type": "execute_result"
    }
   ],
   "source": [
    "# This expression will convert 200 minutes to hours by diving by 60\n",
    "200/60"
   ]
  },
  {
   "cell_type": "markdown",
   "id": "37232cb9-6c51-49f4-b201-03558ae0f36b",
   "metadata": {},
   "source": [
    "## Author\n",
    "May Meiri"
   ]
  }
 ],
 "metadata": {
  "kernelspec": {
   "display_name": "Python 3 (ipykernel)",
   "language": "python",
   "name": "python3"
  },
  "language_info": {
   "codemirror_mode": {
    "name": "ipython",
    "version": 3
   },
   "file_extension": ".py",
   "mimetype": "text/x-python",
   "name": "python",
   "nbconvert_exporter": "python",
   "pygments_lexer": "ipython3",
   "version": "3.11.7"
  }
 },
 "nbformat": 4,
 "nbformat_minor": 5
}
